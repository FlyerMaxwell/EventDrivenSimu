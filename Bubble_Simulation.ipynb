{
 "cells": [
  {
   "cell_type": "code",
   "execution_count": 1,
   "metadata": {},
   "outputs": [],
   "source": [
    "# Author: Maxwell\n",
    "# Date: 2023/4/4\n",
    "# Function: 本文件快速实现仿真场景及其可视化"
   ]
  },
  {
   "cell_type": "code",
   "execution_count": 2,
   "metadata": {},
   "outputs": [],
   "source": [
    "import numpy as np\n",
    "import heapq\n",
    "import vehicle\n",
    "from vehicle import Vehicle\n",
    "from simulation import Simulation\n",
    "from event import Event\n",
    "from packet import Packet"
   ]
  },
  {
   "cell_type": "code",
   "execution_count": 3,
   "metadata": {},
   "outputs": [
    {
     "name": "stdout",
     "output_type": "stream",
     "text": [
      "id =  v_l , speed =  1 , displacement =  5 , acceleration =  0.5\n",
      "id =  v_f , speed =  2 , displacement =  0 , acceleration =  0.5\n",
      "[<event.Event object at 0x00000200B9FB3E80>, <event.Event object at 0x00000200B9FB3BE0>, <event.Event object at 0x00000200B9FB3AC0>, <event.Event object at 0x00000200B9FB3B20>, <event.Event object at 0x00000200B9FB3B80>, <event.Event object at 0x00000200B9FB3F10>, <event.Event object at 0x00000200B9FB8A00>, <event.Event object at 0x00000200B9FB8A30>, <event.Event object at 0x00000200B9FB8A90>, <event.Event object at 0x00000200B9FB8B20>, <event.Event object at 0x00000200B9FB8B80>, <event.Event object at 0x00000200B9FB8BB0>, <event.Event object at 0x00000200B9FB8C10>, <event.Event object at 0x00000200B9FB8CA0>, <event.Event object at 0x00000200B9FB8D00>, <event.Event object at 0x00000200B9FB8D30>, <event.Event object at 0x00000200B9FB8D90>, <event.Event object at 0x00000200B9FB8E20>, <event.Event object at 0x00000200B9FB8E80>, <event.Event object at 0x00000200B9FB8EB0>, <event.Event object at 0x00000200B9FB8F10>, <event.Event object at 0x00000200B9FBD940>, <event.Event object at 0x00000200B9FBD8E0>, <event.Event object at 0x00000200B9FBD8B0>, <event.Event object at 0x00000200B9FBD850>, <event.Event object at 0x00000200B9FBD7C0>, <event.Event object at 0x00000200B9FBD760>, <event.Event object at 0x00000200B9FBD730>, <event.Event object at 0x00000200B9FBD6D0>, <event.Event object at 0x00000200B9FBD640>, <event.Event object at 0x00000200B9FBD5E0>, <event.Event object at 0x00000200B9FBD5B0>, <event.Event object at 0x00000200B9FBD550>, <event.Event object at 0x00000200B9FBD4C0>, <event.Event object at 0x00000200B9FBD460>, <event.Event object at 0x00000200B9FBD430>, <event.Event object at 0x00000200B9FBD3D0>, <event.Event object at 0x00000200B9FBD340>, <event.Event object at 0x00000200B9FBD2E0>, <event.Event object at 0x00000200B9FBD2B0>, <event.Event object at 0x00000200B9FBD250>, <event.Event object at 0x00000200B9FBDAC0>, <event.Event object at 0x00000200B9FBDB20>, <event.Event object at 0x00000200B9FBDB50>, <event.Event object at 0x00000200B9FBDBB0>, <event.Event object at 0x00000200B9FBDC40>, <event.Event object at 0x00000200B9FBDCA0>, <event.Event object at 0x00000200B9FBDCD0>, <event.Event object at 0x00000200B9FBDD30>, <event.Event object at 0x00000200B9FBDDC0>, <event.Event object at 0x00000200B9FBDE20>, <event.Event object at 0x00000200B9FBDE50>, <event.Event object at 0x00000200B9FBDEB0>, <event.Event object at 0x00000200B9FBDF40>, <event.Event object at 0x00000200B9FBDFA0>, <event.Event object at 0x00000200B9FBDFD0>, <event.Event object at 0x00000200B9FBD130>, <event.Event object at 0x00000200B9FBD0A0>, <event.Event object at 0x00000200B9FBD040>, <event.Event object at 0x00000200B9FBD1C0>, <event.Event object at 0x00000200B9FC8040>, <event.Event object at 0x00000200B9FC80D0>, <event.Event object at 0x00000200B9FC8130>, <event.Event object at 0x00000200B9FC8160>, <event.Event object at 0x00000200B9FC81C0>, <event.Event object at 0x00000200B9FC8250>, <event.Event object at 0x00000200B9FC82B0>, <event.Event object at 0x00000200B9FC82E0>, <event.Event object at 0x00000200B9FC8340>, <event.Event object at 0x00000200B9FC83D0>, <event.Event object at 0x00000200B9FC8430>, <event.Event object at 0x00000200B9FC8460>, <event.Event object at 0x00000200B9FC84C0>, <event.Event object at 0x00000200B9FC8550>, <event.Event object at 0x00000200B9FC85B0>, <event.Event object at 0x00000200B9FC85E0>, <event.Event object at 0x00000200B9FC8640>, <event.Event object at 0x00000200B9FC86D0>, <event.Event object at 0x00000200B9FC8730>, <event.Event object at 0x00000200B9FC8760>, <event.Event object at 0x00000200B9FC87C0>, <event.Event object at 0x00000200B9FC8850>, <event.Event object at 0x00000200B9FC88B0>, <event.Event object at 0x00000200B9FC88E0>, <event.Event object at 0x00000200B9FC8940>, <event.Event object at 0x00000200B9FC89D0>, <event.Event object at 0x00000200B9FC8A30>, <event.Event object at 0x00000200B9FC8A60>, <event.Event object at 0x00000200B9FC8AC0>, <event.Event object at 0x00000200B9FC8B50>, <event.Event object at 0x00000200B9FC8BB0>, <event.Event object at 0x00000200B9FC8BE0>, <event.Event object at 0x00000200B9FC8C40>, <event.Event object at 0x00000200B9FC8CD0>, <event.Event object at 0x00000200B9FC8D30>, <event.Event object at 0x00000200B9FC8D60>, <event.Event object at 0x00000200B9FC8DC0>, <event.Event object at 0x00000200B9FC8E50>, <event.Event object at 0x00000200B9FC8EB0>, <event.Event object at 0x00000200B9FC8EE0>, <event.Event object at 0x00000200B9FC8F40>, <event.Event object at 0x00000200B9FC8FD0>, <event.Event object at 0x00000200B9FCD070>, <event.Event object at 0x00000200B9FCD0A0>, <event.Event object at 0x00000200B9FCD100>, <event.Event object at 0x00000200B9FCD190>, <event.Event object at 0x00000200B9FCD1F0>, <event.Event object at 0x00000200B9FCD220>, <event.Event object at 0x00000200B9FCD280>, <event.Event object at 0x00000200B9FCD310>, <event.Event object at 0x00000200B9FCD370>, <event.Event object at 0x00000200B9FCD3A0>, <event.Event object at 0x00000200B9FCD400>, <event.Event object at 0x00000200B9FCD490>, <event.Event object at 0x00000200B9FCD4F0>, <event.Event object at 0x00000200B9FCD520>, <event.Event object at 0x00000200B9FCD580>, <event.Event object at 0x00000200B9FCD610>, <event.Event object at 0x00000200B9FCD670>, <event.Event object at 0x00000200B9FCD6A0>, <event.Event object at 0x00000200B9FCD700>, <event.Event object at 0x00000200B9FCD790>, <event.Event object at 0x00000200B9FCD7F0>, <event.Event object at 0x00000200B9FCD820>, <event.Event object at 0x00000200B9FCD880>, <event.Event object at 0x00000200B9FCD910>, <event.Event object at 0x00000200B9FCD970>, <event.Event object at 0x00000200B9FCD9A0>, <event.Event object at 0x00000200B9FCDA00>, <event.Event object at 0x00000200B9FCDA90>, <event.Event object at 0x00000200B9FCDAF0>, <event.Event object at 0x00000200B9FCDB20>, <event.Event object at 0x00000200B9FCDB80>, <event.Event object at 0x00000200B9FCDC10>, <event.Event object at 0x00000200B9FCDC70>, <event.Event object at 0x00000200B9FCDCA0>, <event.Event object at 0x00000200B9FCDD00>, <event.Event object at 0x00000200B9FCDD90>, <event.Event object at 0x00000200B9FCDDF0>, <event.Event object at 0x00000200B9FCDE20>, <event.Event object at 0x00000200B9FCDE80>, <event.Event object at 0x00000200B9FCDF10>, <event.Event object at 0x00000200B9FCDF70>, <event.Event object at 0x00000200B9FCDFA0>, <event.Event object at 0x00000200B9FD0040>, <event.Event object at 0x00000200B9FD00D0>, <event.Event object at 0x00000200B9FD0130>, <event.Event object at 0x00000200B9FD0160>, <event.Event object at 0x00000200B9FD01C0>, <event.Event object at 0x00000200B9FD0250>, <event.Event object at 0x00000200B9FD02B0>, <event.Event object at 0x00000200B9FD02E0>, <event.Event object at 0x00000200B9FD0340>, <event.Event object at 0x00000200B9FD03D0>, <event.Event object at 0x00000200B9FD0430>, <event.Event object at 0x00000200B9FD0460>, <event.Event object at 0x00000200B9FD04C0>, <event.Event object at 0x00000200B9FD0550>, <event.Event object at 0x00000200B9FD05B0>, <event.Event object at 0x00000200B9FD05E0>, <event.Event object at 0x00000200B9FD0640>, <event.Event object at 0x00000200B9FD06D0>, <event.Event object at 0x00000200B9FD0730>, <event.Event object at 0x00000200B9FD0760>, <event.Event object at 0x00000200B9FD07C0>, <event.Event object at 0x00000200B9FD0850>, <event.Event object at 0x00000200B9FD08B0>, <event.Event object at 0x00000200B9FD08E0>, <event.Event object at 0x00000200B9FD0940>, <event.Event object at 0x00000200B9FD09D0>, <event.Event object at 0x00000200B9FD0A30>, <event.Event object at 0x00000200B9FD0A60>, <event.Event object at 0x00000200B9FD0AC0>, <event.Event object at 0x00000200B9FD0B50>, <event.Event object at 0x00000200B9FD0BB0>, <event.Event object at 0x00000200B9FD0BE0>, <event.Event object at 0x00000200B9FD0C40>, <event.Event object at 0x00000200B9FD0CD0>, <event.Event object at 0x00000200B9FD0D30>, <event.Event object at 0x00000200B9FD0D60>, <event.Event object at 0x00000200B9FD0DC0>, <event.Event object at 0x00000200B9FD0E50>, <event.Event object at 0x00000200B9FD0EB0>, <event.Event object at 0x00000200B9FD0EE0>, <event.Event object at 0x00000200B9FD0F40>, <event.Event object at 0x00000200B9FD0FD0>, <event.Event object at 0x00000200B9FD3070>, <event.Event object at 0x00000200B9FD30A0>, <event.Event object at 0x00000200B9FD3100>, <event.Event object at 0x00000200B9FD3190>, <event.Event object at 0x00000200B9FD31F0>, <event.Event object at 0x00000200B9FD3220>, <event.Event object at 0x00000200B9FD3280>, <event.Event object at 0x00000200B9FD3310>, <event.Event object at 0x00000200B9FD3370>, <event.Event object at 0x00000200B9FD33A0>, <event.Event object at 0x00000200B9FD3400>, <event.Event object at 0x00000200B9FD3490>, <event.Event object at 0x00000200B9FD34F0>, <event.Event object at 0x00000200B9FD3520>, <event.Event object at 0x00000200B9FD3580>, <event.Event object at 0x00000200B9FD3610>, <event.Event object at 0x00000200B9FD3670>, <event.Event object at 0x00000200B9FD36A0>, <event.Event object at 0x00000200B9FD3700>, <event.Event object at 0x00000200B9FD3790>, <event.Event object at 0x00000200B9FD37F0>, <event.Event object at 0x00000200B9FD3820>, <event.Event object at 0x00000200B9FD3880>, <event.Event object at 0x00000200B9FD3910>, <event.Event object at 0x00000200B9FD3970>, <event.Event object at 0x00000200B9FD39A0>, <event.Event object at 0x00000200B9FD3A00>, <event.Event object at 0x00000200B9FD3A90>, <event.Event object at 0x00000200B9FD3AF0>, <event.Event object at 0x00000200B9FD3B20>, <event.Event object at 0x00000200B9FD3B80>, <event.Event object at 0x00000200B9FD3C10>, <event.Event object at 0x00000200B9FD3C70>, <event.Event object at 0x00000200B9FD3CA0>, <event.Event object at 0x00000200B9FD3D00>, <event.Event object at 0x00000200B9FD3D90>, <event.Event object at 0x00000200B9FD3DF0>, <event.Event object at 0x00000200B9FD3E20>, <event.Event object at 0x00000200B9FD3E80>, <event.Event object at 0x00000200B9FD3F10>, <event.Event object at 0x00000200B9FD3F70>, <event.Event object at 0x00000200B9FD3FA0>, <event.Event object at 0x00000200B9FD7040>, <event.Event object at 0x00000200B9FD70D0>, <event.Event object at 0x00000200B9FD7130>, <event.Event object at 0x00000200B9FD7160>, <event.Event object at 0x00000200B9FD71C0>, <event.Event object at 0x00000200B9FD7250>, <event.Event object at 0x00000200B9FD72B0>, <event.Event object at 0x00000200B9FD72E0>, <event.Event object at 0x00000200B9FD7340>, <event.Event object at 0x00000200B9FD73D0>, <event.Event object at 0x00000200B9FD7430>, <event.Event object at 0x00000200B9FD7460>, <event.Event object at 0x00000200B9FD74C0>, <event.Event object at 0x00000200B9FD7550>, <event.Event object at 0x00000200B9FD75B0>, <event.Event object at 0x00000200B9FD75E0>, <event.Event object at 0x00000200B9FD7640>, <event.Event object at 0x00000200B9FD76D0>, <event.Event object at 0x00000200B9FD7730>, <event.Event object at 0x00000200B9FD7760>, <event.Event object at 0x00000200B9FD77C0>, <event.Event object at 0x00000200B9FD7850>, <event.Event object at 0x00000200B9FD78B0>, <event.Event object at 0x00000200B9FD78E0>, <event.Event object at 0x00000200B9FD7940>, <event.Event object at 0x00000200B9FD79D0>, <event.Event object at 0x00000200B9FD7A30>, <event.Event object at 0x00000200B9FD7A60>, <event.Event object at 0x00000200B9FD7AC0>, <event.Event object at 0x00000200B9FD7B50>, <event.Event object at 0x00000200B9FD7BB0>, <event.Event object at 0x00000200B9FD7BE0>, <event.Event object at 0x00000200B9FD7C40>, <event.Event object at 0x00000200B9FD7CD0>, <event.Event object at 0x00000200B9FD7D30>, <event.Event object at 0x00000200B9FD7D60>, <event.Event object at 0x00000200B9FD7DC0>, <event.Event object at 0x00000200B9FD7E50>, <event.Event object at 0x00000200B9FD7EB0>, <event.Event object at 0x00000200B9FD7EE0>, <event.Event object at 0x00000200B9FD7F40>, <event.Event object at 0x00000200B9FD7FD0>, <event.Event object at 0x00000200B9FD9070>, <event.Event object at 0x00000200B9FD90A0>, <event.Event object at 0x00000200B9FD9100>, <event.Event object at 0x00000200B9FD9190>, <event.Event object at 0x00000200B9FD91F0>, <event.Event object at 0x00000200B9FD9220>, <event.Event object at 0x00000200B9FD9280>, <event.Event object at 0x00000200B9FD9310>, <event.Event object at 0x00000200B9FD9370>, <event.Event object at 0x00000200B9FD93A0>, <event.Event object at 0x00000200B9FD9400>, <event.Event object at 0x00000200B9FD9490>, <event.Event object at 0x00000200B9FD94F0>, <event.Event object at 0x00000200B9FD9520>, <event.Event object at 0x00000200B9FD9580>, <event.Event object at 0x00000200B9FD9610>, <event.Event object at 0x00000200B9FD9670>, <event.Event object at 0x00000200B9FD96A0>, <event.Event object at 0x00000200B9FD9700>, <event.Event object at 0x00000200B9FD9790>, <event.Event object at 0x00000200B9FD97F0>, <event.Event object at 0x00000200B9FD9820>, <event.Event object at 0x00000200B9FD9880>, <event.Event object at 0x00000200B9FD9910>, <event.Event object at 0x00000200B9FD9970>, <event.Event object at 0x00000200B9FD99A0>, <event.Event object at 0x00000200B9FD9A00>, <event.Event object at 0x00000200B9FD9A90>, <event.Event object at 0x00000200B9FD9AF0>, <event.Event object at 0x00000200B9FD9B20>, <event.Event object at 0x00000200B9FD9B80>, <event.Event object at 0x00000200B9FD9C10>, <event.Event object at 0x00000200B9FD9C70>, <event.Event object at 0x00000200B9FD9CA0>, <event.Event object at 0x00000200B9FD9D00>, <event.Event object at 0x00000200B9FD9D90>, <event.Event object at 0x00000200B9FD9DF0>, <event.Event object at 0x00000200B9FD9E20>, <event.Event object at 0x00000200B9FD9E80>, <event.Event object at 0x00000200B9FD9F10>, <event.Event object at 0x00000200B9FD9F70>, <event.Event object at 0x00000200B9FD9FA0>, <event.Event object at 0x00000200B9FDC040>, <event.Event object at 0x00000200B9FDC0D0>, <event.Event object at 0x00000200B9FDC130>, <event.Event object at 0x00000200B9FDC160>, <event.Event object at 0x00000200B9FDC1C0>, <event.Event object at 0x00000200B9FDC250>, <event.Event object at 0x00000200B9FDC2B0>, <event.Event object at 0x00000200B9FDC2E0>, <event.Event object at 0x00000200B9FDC340>, <event.Event object at 0x00000200B9FDC3D0>, <event.Event object at 0x00000200B9FDC430>, <event.Event object at 0x00000200B9FDC460>, <event.Event object at 0x00000200B9FDC4C0>, <event.Event object at 0x00000200B9FDC550>, <event.Event object at 0x00000200B9FDC5B0>, <event.Event object at 0x00000200B9FDC5E0>, <event.Event object at 0x00000200B9FDC640>, <event.Event object at 0x00000200B9FDC6D0>, <event.Event object at 0x00000200B9FDC730>, <event.Event object at 0x00000200B9FDC760>, <event.Event object at 0x00000200B9FDC7C0>, <event.Event object at 0x00000200B9FDC850>, <event.Event object at 0x00000200B9FDC8B0>, <event.Event object at 0x00000200B9FDC8E0>, <event.Event object at 0x00000200B9FDC940>, <event.Event object at 0x00000200B9FDC9D0>, <event.Event object at 0x00000200B9FDCA30>, <event.Event object at 0x00000200B9FDCA60>, <event.Event object at 0x00000200B9FDCAC0>, <event.Event object at 0x00000200B9FDCB50>, <event.Event object at 0x00000200B9FDCBB0>, <event.Event object at 0x00000200B9FDCBE0>, <event.Event object at 0x00000200B9FDCC40>, <event.Event object at 0x00000200B9FDCCD0>, <event.Event object at 0x00000200B9FDCD30>, <event.Event object at 0x00000200B9FDCD60>, <event.Event object at 0x00000200B9FDCDC0>, <event.Event object at 0x00000200B9FDCE50>, <event.Event object at 0x00000200B9FDCEB0>, <event.Event object at 0x00000200B9FDCEE0>, <event.Event object at 0x00000200B9FDCF40>, <event.Event object at 0x00000200B9FDCFD0>, <event.Event object at 0x00000200B9FE0070>, <event.Event object at 0x00000200B9FE00A0>, <event.Event object at 0x00000200B9FE0100>, <event.Event object at 0x00000200B9FE0190>, <event.Event object at 0x00000200B9FE01F0>, <event.Event object at 0x00000200B9FE0220>, <event.Event object at 0x00000200B9FE0280>, <event.Event object at 0x00000200B9FE0310>, <event.Event object at 0x00000200B9FE0370>, <event.Event object at 0x00000200B9FE03A0>, <event.Event object at 0x00000200B9FE0400>, <event.Event object at 0x00000200B9FE0490>, <event.Event object at 0x00000200B9FE04F0>, <event.Event object at 0x00000200B9FE0520>, <event.Event object at 0x00000200B9FE0580>, <event.Event object at 0x00000200B9FE0610>, <event.Event object at 0x00000200B9FE0670>, <event.Event object at 0x00000200B9FE06A0>, <event.Event object at 0x00000200B9FE0700>, <event.Event object at 0x00000200B9FE0790>, <event.Event object at 0x00000200B9FE07F0>, <event.Event object at 0x00000200B9FE0820>, <event.Event object at 0x00000200B9FE0880>, <event.Event object at 0x00000200B9FE0910>, <event.Event object at 0x00000200B9FE0970>, <event.Event object at 0x00000200B9FE09A0>, <event.Event object at 0x00000200B9FE0A00>, <event.Event object at 0x00000200B9FE0A90>, <event.Event object at 0x00000200B9FE0AF0>, <event.Event object at 0x00000200B9FE0B20>, <event.Event object at 0x00000200B9FE0B80>, <event.Event object at 0x00000200B9FE0C10>, <event.Event object at 0x00000200B9FE0C70>, <event.Event object at 0x00000200B9FE0CA0>, <event.Event object at 0x00000200B9FE0D00>, <event.Event object at 0x00000200B9FE0D90>, <event.Event object at 0x00000200B9FE0DF0>, <event.Event object at 0x00000200B9FE0E20>, <event.Event object at 0x00000200B9FE0E80>, <event.Event object at 0x00000200B9FE0F10>, <event.Event object at 0x00000200B9FE0F70>, <event.Event object at 0x00000200B9FE0FA0>, <event.Event object at 0x00000200B9FE3040>, <event.Event object at 0x00000200B9FE30D0>, <event.Event object at 0x00000200B9FE3130>, <event.Event object at 0x00000200B9FE3160>]\n"
     ]
    },
    {
     "ename": "AttributeError",
     "evalue": "'Vehicle' object has no attribute 'accerleration'",
     "output_type": "error",
     "traceback": [
      "\u001b[1;31m---------------------------------------------------------------------------\u001b[0m",
      "\u001b[1;31mAttributeError\u001b[0m                            Traceback (most recent call last)",
      "\u001b[1;32mc:\\Users\\cyx02\\Desktop\\simulation\\Bubble_Simulation.ipynb Cell 3\u001b[0m in \u001b[0;36m<cell line: 32>\u001b[1;34m()\u001b[0m\n\u001b[0;32m     <a href='vscode-notebook-cell:/c%3A/Users/cyx02/Desktop/simulation/Bubble_Simulation.ipynb#W2sZmlsZQ%3D%3D?line=28'>29</a>\u001b[0m \u001b[39mprint\u001b[39m(aSim\u001b[39m.\u001b[39mevents)\n\u001b[0;32m     <a href='vscode-notebook-cell:/c%3A/Users/cyx02/Desktop/simulation/Bubble_Simulation.ipynb#W2sZmlsZQ%3D%3D?line=30'>31</a>\u001b[0m \u001b[39m# run simulator\u001b[39;00m\n\u001b[1;32m---> <a href='vscode-notebook-cell:/c%3A/Users/cyx02/Desktop/simulation/Bubble_Simulation.ipynb#W2sZmlsZQ%3D%3D?line=31'>32</a>\u001b[0m aSim\u001b[39m.\u001b[39;49mrun()\n",
      "File \u001b[1;32mc:\\Users\\cyx02\\Desktop\\simulation\\simulation.py:23\u001b[0m, in \u001b[0;36mSimulation.run\u001b[1;34m(self)\u001b[0m\n\u001b[0;32m     21\u001b[0m event \u001b[39m=\u001b[39m heapq\u001b[39m.\u001b[39mheappop(\u001b[39mself\u001b[39m\u001b[39m.\u001b[39mevents)\n\u001b[0;32m     22\u001b[0m event\u001b[39m.\u001b[39mshowInfo()\n\u001b[1;32m---> 23\u001b[0m event\u001b[39m.\u001b[39;49mconsume()\n",
      "File \u001b[1;32mc:\\Users\\cyx02\\Desktop\\simulation\\event.py:17\u001b[0m, in \u001b[0;36mEvent.consume\u001b[1;34m(self)\u001b[0m\n\u001b[0;32m     16\u001b[0m \u001b[39mdef\u001b[39;00m \u001b[39mconsume\u001b[39m(\u001b[39mself\u001b[39m):\n\u001b[1;32m---> 17\u001b[0m     \u001b[39mself\u001b[39;49m\u001b[39m.\u001b[39;49mhandle_func(\u001b[39mself\u001b[39;49m\u001b[39m.\u001b[39;49maSim, \u001b[39mself\u001b[39;49m\u001b[39m.\u001b[39;49mdatap, \u001b[39mself\u001b[39;49m\u001b[39m.\u001b[39;49mbywho)\n",
      "File \u001b[1;32mc:\\Users\\cyx02\\Desktop\\simulation\\vehicle.py:36\u001b[0m, in \u001b[0;36mbroadcast\u001b[1;34m(aSim, pkt, car)\u001b[0m\n\u001b[0;32m     34\u001b[0m pkt\u001b[39m.\u001b[39msrc \u001b[39m=\u001b[39m car\n\u001b[0;32m     35\u001b[0m pkt\u001b[39m.\u001b[39mdst \u001b[39m=\u001b[39m \u001b[39mNone\u001b[39;00m\n\u001b[1;32m---> 36\u001b[0m pkt\u001b[39m.\u001b[39mdata \u001b[39m=\u001b[39m [car\u001b[39m.\u001b[39mspeed, car\u001b[39m.\u001b[39mdisplacement, car\u001b[39m.\u001b[39;49maccerleration]\n\u001b[0;32m     37\u001b[0m \u001b[39mfor\u001b[39;00m neighbor \u001b[39min\u001b[39;00m aSim\u001b[39m.\u001b[39mvehicles:\n\u001b[0;32m     38\u001b[0m     \u001b[39mif\u001b[39;00m (neighbor\u001b[39m.\u001b[39mid \u001b[39m==\u001b[39m car\u001b[39m.\u001b[39mid)\u001b[39mor\u001b[39;00m(\u001b[39mabs\u001b[39m(neighbor\u001b[39m.\u001b[39mdisplacement \u001b[39m-\u001b[39m car\u001b[39m.\u001b[39mdisplacement) \u001b[39m>\u001b[39m car\u001b[39m.\u001b[39mcommuR):\n",
      "\u001b[1;31mAttributeError\u001b[0m: 'Vehicle' object has no attribute 'accerleration'"
     ]
    }
   ],
   "source": [
    "aSim = Simulation()\n",
    "\n",
    "# Add vehicles to aSim\n",
    "aSim.add_vehicles(Vehicle(id = 'v_l', speed = 1, displacement = 5, acceleration = 0.5,commuR= 0,safeR= 0))\n",
    "aSim.add_vehicles(Vehicle(id = 'v_f', speed = 2, displacement = 0, acceleration = 0.5,commuR= 0,safeR= 0))\n",
    "\n",
    "for car in aSim.vehicles:\n",
    "    car.showInfo()\n",
    "\n",
    "# add event to aSim\n",
    "for i in np.arange(aSim.exprStart, aSim.exprEnd, aSim.slotSize):\n",
    "    \n",
    "    # Communication\n",
    "    # Transmission\n",
    "    for car in aSim.vehicles:\n",
    "        aSim.add_event(Event(type = \"broad\", aSim = aSim, clock= i, datap=Packet(clock=i, src = car, dst = None,data=[]), bywho=car, handle_func=vehicle.broadcast))\n",
    "    \n",
    "\n",
    "    # # deceide its action based on received packets\n",
    "    # for car in aSim.vehicles:\n",
    "    #     aSim.add_event(Event(type = \"decode\", aSim = aSim, clock= i, datap=car.packets, bywho=car, handle_func= vehicle.makeDecision))\n",
    "    \n",
    "    \n",
    "    # Update Location\n",
    "    for car in aSim.vehicles:\n",
    "        aSim.add_event(Event(type = \"upLoc\", aSim = aSim, clock=i, datap= car, bywho= aSim.slotSize, handle_func=vehicle.updateLoc))\n",
    "\n",
    "\n",
    "print(aSim.events)\n",
    "\n",
    "# run simulator\n",
    "aSim.run()\n"
   ]
  },
  {
   "cell_type": "code",
   "execution_count": null,
   "metadata": {},
   "outputs": [],
   "source": [
    "def func_Rsafe(v_f, v_l, a_f, a_l, dt, rho):\n",
    "    if(a_f == None):\n",
    "        return v_f*v_f/2/a_f/rho + v_f*dt\n",
    "    return v_f*v_f/2/a_f/rho - v_l*v_l/2/a_l + v_f*dt\n",
    "\n",
    "\n",
    "print(func_Rsafe(2,1,0.5,0.5,0.1,0.5))\n",
    "\n",
    "# 画一幅图，固定后车的速度，自变量是前车的速度，因变量是安全距离，超参数是安全系数\n",
    "# 再画一幅图，固定安全系数，自变量是前车速度，因变量是安全距离，超参数是后车速度\n",
    "v_l = np.arange(0,20,1)\n",
    "v_f = 20\n",
    "\n",
    "dist = []\n",
    "for v in v_l:\n",
    "    dist.append(func_Rsafe(v_f, v, 0.5, 0.5, 0.1, 0.5))\n",
    "    \n"
   ]
  }
 ],
 "metadata": {
  "kernelspec": {
   "display_name": "base",
   "language": "python",
   "name": "python3"
  },
  "language_info": {
   "codemirror_mode": {
    "name": "ipython",
    "version": 3
   },
   "file_extension": ".py",
   "mimetype": "text/x-python",
   "name": "python",
   "nbconvert_exporter": "python",
   "pygments_lexer": "ipython3",
   "version": "3.9.7"
  },
  "orig_nbformat": 4
 },
 "nbformat": 4,
 "nbformat_minor": 2
}
